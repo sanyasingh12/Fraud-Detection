{
 "cells": [
  {
   "cell_type": "code",
   "execution_count": 1,
   "id": "f4b13ee5",
   "metadata": {
    "scrolled": true
   },
   "outputs": [
    {
     "data": {
      "text/html": [
       "<div>\n",
       "<style scoped>\n",
       "    .dataframe tbody tr th:only-of-type {\n",
       "        vertical-align: middle;\n",
       "    }\n",
       "\n",
       "    .dataframe tbody tr th {\n",
       "        vertical-align: top;\n",
       "    }\n",
       "\n",
       "    .dataframe thead th {\n",
       "        text-align: right;\n",
       "    }\n",
       "</style>\n",
       "<table border=\"1\" class=\"dataframe\">\n",
       "  <thead>\n",
       "    <tr style=\"text-align: right;\">\n",
       "      <th></th>\n",
       "      <th>step</th>\n",
       "      <th>type</th>\n",
       "      <th>amount</th>\n",
       "      <th>nameOrig</th>\n",
       "      <th>oldbalanceOrg</th>\n",
       "      <th>newbalanceOrig</th>\n",
       "      <th>nameDest</th>\n",
       "      <th>oldbalanceDest</th>\n",
       "      <th>newbalanceDest</th>\n",
       "      <th>isFraud</th>\n",
       "      <th>isFlaggedFraud</th>\n",
       "    </tr>\n",
       "  </thead>\n",
       "  <tbody>\n",
       "    <tr>\n",
       "      <th>0</th>\n",
       "      <td>1</td>\n",
       "      <td>PAYMENT</td>\n",
       "      <td>9839.64</td>\n",
       "      <td>C1231006815</td>\n",
       "      <td>170136.00</td>\n",
       "      <td>160296.36</td>\n",
       "      <td>M1979787155</td>\n",
       "      <td>0.00</td>\n",
       "      <td>0.00</td>\n",
       "      <td>0</td>\n",
       "      <td>0</td>\n",
       "    </tr>\n",
       "    <tr>\n",
       "      <th>1</th>\n",
       "      <td>1</td>\n",
       "      <td>PAYMENT</td>\n",
       "      <td>1864.28</td>\n",
       "      <td>C1666544295</td>\n",
       "      <td>21249.00</td>\n",
       "      <td>19384.72</td>\n",
       "      <td>M2044282225</td>\n",
       "      <td>0.00</td>\n",
       "      <td>0.00</td>\n",
       "      <td>0</td>\n",
       "      <td>0</td>\n",
       "    </tr>\n",
       "    <tr>\n",
       "      <th>2</th>\n",
       "      <td>1</td>\n",
       "      <td>TRANSFER</td>\n",
       "      <td>181.00</td>\n",
       "      <td>C1305486145</td>\n",
       "      <td>181.00</td>\n",
       "      <td>0.00</td>\n",
       "      <td>C553264065</td>\n",
       "      <td>0.00</td>\n",
       "      <td>0.00</td>\n",
       "      <td>1</td>\n",
       "      <td>0</td>\n",
       "    </tr>\n",
       "    <tr>\n",
       "      <th>3</th>\n",
       "      <td>1</td>\n",
       "      <td>CASH_OUT</td>\n",
       "      <td>181.00</td>\n",
       "      <td>C840083671</td>\n",
       "      <td>181.00</td>\n",
       "      <td>0.00</td>\n",
       "      <td>C38997010</td>\n",
       "      <td>21182.00</td>\n",
       "      <td>0.00</td>\n",
       "      <td>1</td>\n",
       "      <td>0</td>\n",
       "    </tr>\n",
       "    <tr>\n",
       "      <th>4</th>\n",
       "      <td>1</td>\n",
       "      <td>PAYMENT</td>\n",
       "      <td>11668.14</td>\n",
       "      <td>C2048537720</td>\n",
       "      <td>41554.00</td>\n",
       "      <td>29885.86</td>\n",
       "      <td>M1230701703</td>\n",
       "      <td>0.00</td>\n",
       "      <td>0.00</td>\n",
       "      <td>0</td>\n",
       "      <td>0</td>\n",
       "    </tr>\n",
       "    <tr>\n",
       "      <th>...</th>\n",
       "      <td>...</td>\n",
       "      <td>...</td>\n",
       "      <td>...</td>\n",
       "      <td>...</td>\n",
       "      <td>...</td>\n",
       "      <td>...</td>\n",
       "      <td>...</td>\n",
       "      <td>...</td>\n",
       "      <td>...</td>\n",
       "      <td>...</td>\n",
       "      <td>...</td>\n",
       "    </tr>\n",
       "    <tr>\n",
       "      <th>6362615</th>\n",
       "      <td>743</td>\n",
       "      <td>CASH_OUT</td>\n",
       "      <td>339682.13</td>\n",
       "      <td>C786484425</td>\n",
       "      <td>339682.13</td>\n",
       "      <td>0.00</td>\n",
       "      <td>C776919290</td>\n",
       "      <td>0.00</td>\n",
       "      <td>339682.13</td>\n",
       "      <td>1</td>\n",
       "      <td>0</td>\n",
       "    </tr>\n",
       "    <tr>\n",
       "      <th>6362616</th>\n",
       "      <td>743</td>\n",
       "      <td>TRANSFER</td>\n",
       "      <td>6311409.28</td>\n",
       "      <td>C1529008245</td>\n",
       "      <td>6311409.28</td>\n",
       "      <td>0.00</td>\n",
       "      <td>C1881841831</td>\n",
       "      <td>0.00</td>\n",
       "      <td>0.00</td>\n",
       "      <td>1</td>\n",
       "      <td>0</td>\n",
       "    </tr>\n",
       "    <tr>\n",
       "      <th>6362617</th>\n",
       "      <td>743</td>\n",
       "      <td>CASH_OUT</td>\n",
       "      <td>6311409.28</td>\n",
       "      <td>C1162922333</td>\n",
       "      <td>6311409.28</td>\n",
       "      <td>0.00</td>\n",
       "      <td>C1365125890</td>\n",
       "      <td>68488.84</td>\n",
       "      <td>6379898.11</td>\n",
       "      <td>1</td>\n",
       "      <td>0</td>\n",
       "    </tr>\n",
       "    <tr>\n",
       "      <th>6362618</th>\n",
       "      <td>743</td>\n",
       "      <td>TRANSFER</td>\n",
       "      <td>850002.52</td>\n",
       "      <td>C1685995037</td>\n",
       "      <td>850002.52</td>\n",
       "      <td>0.00</td>\n",
       "      <td>C2080388513</td>\n",
       "      <td>0.00</td>\n",
       "      <td>0.00</td>\n",
       "      <td>1</td>\n",
       "      <td>0</td>\n",
       "    </tr>\n",
       "    <tr>\n",
       "      <th>6362619</th>\n",
       "      <td>743</td>\n",
       "      <td>CASH_OUT</td>\n",
       "      <td>850002.52</td>\n",
       "      <td>C1280323807</td>\n",
       "      <td>850002.52</td>\n",
       "      <td>0.00</td>\n",
       "      <td>C873221189</td>\n",
       "      <td>6510099.11</td>\n",
       "      <td>7360101.63</td>\n",
       "      <td>1</td>\n",
       "      <td>0</td>\n",
       "    </tr>\n",
       "  </tbody>\n",
       "</table>\n",
       "<p>6362620 rows × 11 columns</p>\n",
       "</div>"
      ],
      "text/plain": [
       "         step      type      amount     nameOrig  oldbalanceOrg  \\\n",
       "0           1   PAYMENT     9839.64  C1231006815      170136.00   \n",
       "1           1   PAYMENT     1864.28  C1666544295       21249.00   \n",
       "2           1  TRANSFER      181.00  C1305486145         181.00   \n",
       "3           1  CASH_OUT      181.00   C840083671         181.00   \n",
       "4           1   PAYMENT    11668.14  C2048537720       41554.00   \n",
       "...       ...       ...         ...          ...            ...   \n",
       "6362615   743  CASH_OUT   339682.13   C786484425      339682.13   \n",
       "6362616   743  TRANSFER  6311409.28  C1529008245     6311409.28   \n",
       "6362617   743  CASH_OUT  6311409.28  C1162922333     6311409.28   \n",
       "6362618   743  TRANSFER   850002.52  C1685995037      850002.52   \n",
       "6362619   743  CASH_OUT   850002.52  C1280323807      850002.52   \n",
       "\n",
       "         newbalanceOrig     nameDest  oldbalanceDest  newbalanceDest  isFraud  \\\n",
       "0             160296.36  M1979787155            0.00            0.00        0   \n",
       "1              19384.72  M2044282225            0.00            0.00        0   \n",
       "2                  0.00   C553264065            0.00            0.00        1   \n",
       "3                  0.00    C38997010        21182.00            0.00        1   \n",
       "4              29885.86  M1230701703            0.00            0.00        0   \n",
       "...                 ...          ...             ...             ...      ...   \n",
       "6362615            0.00   C776919290            0.00       339682.13        1   \n",
       "6362616            0.00  C1881841831            0.00            0.00        1   \n",
       "6362617            0.00  C1365125890        68488.84      6379898.11        1   \n",
       "6362618            0.00  C2080388513            0.00            0.00        1   \n",
       "6362619            0.00   C873221189      6510099.11      7360101.63        1   \n",
       "\n",
       "         isFlaggedFraud  \n",
       "0                     0  \n",
       "1                     0  \n",
       "2                     0  \n",
       "3                     0  \n",
       "4                     0  \n",
       "...                 ...  \n",
       "6362615               0  \n",
       "6362616               0  \n",
       "6362617               0  \n",
       "6362618               0  \n",
       "6362619               0  \n",
       "\n",
       "[6362620 rows x 11 columns]"
      ]
     },
     "execution_count": 1,
     "metadata": {},
     "output_type": "execute_result"
    }
   ],
   "source": [
    "import pandas as pd\n",
    "df = pd.read_csv(\"Fraud.csv\")\n",
    "df"
   ]
  },
  {
   "cell_type": "code",
   "execution_count": 2,
   "id": "fab54179",
   "metadata": {},
   "outputs": [
    {
     "data": {
      "text/html": [
       "<div>\n",
       "<style scoped>\n",
       "    .dataframe tbody tr th:only-of-type {\n",
       "        vertical-align: middle;\n",
       "    }\n",
       "\n",
       "    .dataframe tbody tr th {\n",
       "        vertical-align: top;\n",
       "    }\n",
       "\n",
       "    .dataframe thead th {\n",
       "        text-align: right;\n",
       "    }\n",
       "</style>\n",
       "<table border=\"1\" class=\"dataframe\">\n",
       "  <thead>\n",
       "    <tr style=\"text-align: right;\">\n",
       "      <th></th>\n",
       "      <th>step</th>\n",
       "      <th>type</th>\n",
       "      <th>amount</th>\n",
       "      <th>nameOrig</th>\n",
       "      <th>oldbalanceOrg</th>\n",
       "      <th>newbalanceOrig</th>\n",
       "      <th>nameDest</th>\n",
       "      <th>oldbalanceDest</th>\n",
       "      <th>newbalanceDest</th>\n",
       "      <th>isFraud</th>\n",
       "      <th>isFlaggedFraud</th>\n",
       "    </tr>\n",
       "  </thead>\n",
       "  <tbody>\n",
       "    <tr>\n",
       "      <th>0</th>\n",
       "      <td>1</td>\n",
       "      <td>PAYMENT</td>\n",
       "      <td>9839.64</td>\n",
       "      <td>C1231006815</td>\n",
       "      <td>170136.0</td>\n",
       "      <td>160296.36</td>\n",
       "      <td>M1979787155</td>\n",
       "      <td>0.0</td>\n",
       "      <td>0.0</td>\n",
       "      <td>0</td>\n",
       "      <td>0</td>\n",
       "    </tr>\n",
       "    <tr>\n",
       "      <th>1</th>\n",
       "      <td>1</td>\n",
       "      <td>PAYMENT</td>\n",
       "      <td>1864.28</td>\n",
       "      <td>C1666544295</td>\n",
       "      <td>21249.0</td>\n",
       "      <td>19384.72</td>\n",
       "      <td>M2044282225</td>\n",
       "      <td>0.0</td>\n",
       "      <td>0.0</td>\n",
       "      <td>0</td>\n",
       "      <td>0</td>\n",
       "    </tr>\n",
       "    <tr>\n",
       "      <th>2</th>\n",
       "      <td>1</td>\n",
       "      <td>TRANSFER</td>\n",
       "      <td>181.00</td>\n",
       "      <td>C1305486145</td>\n",
       "      <td>181.0</td>\n",
       "      <td>0.00</td>\n",
       "      <td>C553264065</td>\n",
       "      <td>0.0</td>\n",
       "      <td>0.0</td>\n",
       "      <td>1</td>\n",
       "      <td>0</td>\n",
       "    </tr>\n",
       "    <tr>\n",
       "      <th>3</th>\n",
       "      <td>1</td>\n",
       "      <td>CASH_OUT</td>\n",
       "      <td>181.00</td>\n",
       "      <td>C840083671</td>\n",
       "      <td>181.0</td>\n",
       "      <td>0.00</td>\n",
       "      <td>C38997010</td>\n",
       "      <td>21182.0</td>\n",
       "      <td>0.0</td>\n",
       "      <td>1</td>\n",
       "      <td>0</td>\n",
       "    </tr>\n",
       "    <tr>\n",
       "      <th>4</th>\n",
       "      <td>1</td>\n",
       "      <td>PAYMENT</td>\n",
       "      <td>11668.14</td>\n",
       "      <td>C2048537720</td>\n",
       "      <td>41554.0</td>\n",
       "      <td>29885.86</td>\n",
       "      <td>M1230701703</td>\n",
       "      <td>0.0</td>\n",
       "      <td>0.0</td>\n",
       "      <td>0</td>\n",
       "      <td>0</td>\n",
       "    </tr>\n",
       "  </tbody>\n",
       "</table>\n",
       "</div>"
      ],
      "text/plain": [
       "   step      type    amount     nameOrig  oldbalanceOrg  newbalanceOrig  \\\n",
       "0     1   PAYMENT   9839.64  C1231006815       170136.0       160296.36   \n",
       "1     1   PAYMENT   1864.28  C1666544295        21249.0        19384.72   \n",
       "2     1  TRANSFER    181.00  C1305486145          181.0            0.00   \n",
       "3     1  CASH_OUT    181.00   C840083671          181.0            0.00   \n",
       "4     1   PAYMENT  11668.14  C2048537720        41554.0        29885.86   \n",
       "\n",
       "      nameDest  oldbalanceDest  newbalanceDest  isFraud  isFlaggedFraud  \n",
       "0  M1979787155             0.0             0.0        0               0  \n",
       "1  M2044282225             0.0             0.0        0               0  \n",
       "2   C553264065             0.0             0.0        1               0  \n",
       "3    C38997010         21182.0             0.0        1               0  \n",
       "4  M1230701703             0.0             0.0        0               0  "
      ]
     },
     "execution_count": 2,
     "metadata": {},
     "output_type": "execute_result"
    }
   ],
   "source": [
    "df.head()"
   ]
  },
  {
   "cell_type": "code",
   "execution_count": 3,
   "id": "e2e3ed1f",
   "metadata": {
    "scrolled": true
   },
   "outputs": [
    {
     "data": {
      "text/plain": [
       "<bound method DataFrame.info of          step      type      amount     nameOrig  oldbalanceOrg  \\\n",
       "0           1   PAYMENT     9839.64  C1231006815      170136.00   \n",
       "1           1   PAYMENT     1864.28  C1666544295       21249.00   \n",
       "2           1  TRANSFER      181.00  C1305486145         181.00   \n",
       "3           1  CASH_OUT      181.00   C840083671         181.00   \n",
       "4           1   PAYMENT    11668.14  C2048537720       41554.00   \n",
       "...       ...       ...         ...          ...            ...   \n",
       "6362615   743  CASH_OUT   339682.13   C786484425      339682.13   \n",
       "6362616   743  TRANSFER  6311409.28  C1529008245     6311409.28   \n",
       "6362617   743  CASH_OUT  6311409.28  C1162922333     6311409.28   \n",
       "6362618   743  TRANSFER   850002.52  C1685995037      850002.52   \n",
       "6362619   743  CASH_OUT   850002.52  C1280323807      850002.52   \n",
       "\n",
       "         newbalanceOrig     nameDest  oldbalanceDest  newbalanceDest  isFraud  \\\n",
       "0             160296.36  M1979787155            0.00            0.00        0   \n",
       "1              19384.72  M2044282225            0.00            0.00        0   \n",
       "2                  0.00   C553264065            0.00            0.00        1   \n",
       "3                  0.00    C38997010        21182.00            0.00        1   \n",
       "4              29885.86  M1230701703            0.00            0.00        0   \n",
       "...                 ...          ...             ...             ...      ...   \n",
       "6362615            0.00   C776919290            0.00       339682.13        1   \n",
       "6362616            0.00  C1881841831            0.00            0.00        1   \n",
       "6362617            0.00  C1365125890        68488.84      6379898.11        1   \n",
       "6362618            0.00  C2080388513            0.00            0.00        1   \n",
       "6362619            0.00   C873221189      6510099.11      7360101.63        1   \n",
       "\n",
       "         isFlaggedFraud  \n",
       "0                     0  \n",
       "1                     0  \n",
       "2                     0  \n",
       "3                     0  \n",
       "4                     0  \n",
       "...                 ...  \n",
       "6362615               0  \n",
       "6362616               0  \n",
       "6362617               0  \n",
       "6362618               0  \n",
       "6362619               0  \n",
       "\n",
       "[6362620 rows x 11 columns]>"
      ]
     },
     "execution_count": 3,
     "metadata": {},
     "output_type": "execute_result"
    }
   ],
   "source": [
    "df.info"
   ]
  },
  {
   "cell_type": "code",
   "execution_count": 4,
   "id": "1d70937e",
   "metadata": {},
   "outputs": [
    {
     "data": {
      "text/html": [
       "<div>\n",
       "<style scoped>\n",
       "    .dataframe tbody tr th:only-of-type {\n",
       "        vertical-align: middle;\n",
       "    }\n",
       "\n",
       "    .dataframe tbody tr th {\n",
       "        vertical-align: top;\n",
       "    }\n",
       "\n",
       "    .dataframe thead th {\n",
       "        text-align: right;\n",
       "    }\n",
       "</style>\n",
       "<table border=\"1\" class=\"dataframe\">\n",
       "  <thead>\n",
       "    <tr style=\"text-align: right;\">\n",
       "      <th></th>\n",
       "      <th>step</th>\n",
       "      <th>amount</th>\n",
       "      <th>oldbalanceOrg</th>\n",
       "      <th>newbalanceOrig</th>\n",
       "      <th>oldbalanceDest</th>\n",
       "      <th>newbalanceDest</th>\n",
       "      <th>isFraud</th>\n",
       "      <th>isFlaggedFraud</th>\n",
       "    </tr>\n",
       "  </thead>\n",
       "  <tbody>\n",
       "    <tr>\n",
       "      <th>count</th>\n",
       "      <td>6.362620e+06</td>\n",
       "      <td>6.362620e+06</td>\n",
       "      <td>6.362620e+06</td>\n",
       "      <td>6.362620e+06</td>\n",
       "      <td>6.362620e+06</td>\n",
       "      <td>6.362620e+06</td>\n",
       "      <td>6.362620e+06</td>\n",
       "      <td>6.362620e+06</td>\n",
       "    </tr>\n",
       "    <tr>\n",
       "      <th>mean</th>\n",
       "      <td>2.433972e+02</td>\n",
       "      <td>1.798619e+05</td>\n",
       "      <td>8.338831e+05</td>\n",
       "      <td>8.551137e+05</td>\n",
       "      <td>1.100702e+06</td>\n",
       "      <td>1.224996e+06</td>\n",
       "      <td>1.290820e-03</td>\n",
       "      <td>2.514687e-06</td>\n",
       "    </tr>\n",
       "    <tr>\n",
       "      <th>std</th>\n",
       "      <td>1.423320e+02</td>\n",
       "      <td>6.038582e+05</td>\n",
       "      <td>2.888243e+06</td>\n",
       "      <td>2.924049e+06</td>\n",
       "      <td>3.399180e+06</td>\n",
       "      <td>3.674129e+06</td>\n",
       "      <td>3.590480e-02</td>\n",
       "      <td>1.585775e-03</td>\n",
       "    </tr>\n",
       "    <tr>\n",
       "      <th>min</th>\n",
       "      <td>1.000000e+00</td>\n",
       "      <td>0.000000e+00</td>\n",
       "      <td>0.000000e+00</td>\n",
       "      <td>0.000000e+00</td>\n",
       "      <td>0.000000e+00</td>\n",
       "      <td>0.000000e+00</td>\n",
       "      <td>0.000000e+00</td>\n",
       "      <td>0.000000e+00</td>\n",
       "    </tr>\n",
       "    <tr>\n",
       "      <th>25%</th>\n",
       "      <td>1.560000e+02</td>\n",
       "      <td>1.338957e+04</td>\n",
       "      <td>0.000000e+00</td>\n",
       "      <td>0.000000e+00</td>\n",
       "      <td>0.000000e+00</td>\n",
       "      <td>0.000000e+00</td>\n",
       "      <td>0.000000e+00</td>\n",
       "      <td>0.000000e+00</td>\n",
       "    </tr>\n",
       "    <tr>\n",
       "      <th>50%</th>\n",
       "      <td>2.390000e+02</td>\n",
       "      <td>7.487194e+04</td>\n",
       "      <td>1.420800e+04</td>\n",
       "      <td>0.000000e+00</td>\n",
       "      <td>1.327057e+05</td>\n",
       "      <td>2.146614e+05</td>\n",
       "      <td>0.000000e+00</td>\n",
       "      <td>0.000000e+00</td>\n",
       "    </tr>\n",
       "    <tr>\n",
       "      <th>75%</th>\n",
       "      <td>3.350000e+02</td>\n",
       "      <td>2.087215e+05</td>\n",
       "      <td>1.073152e+05</td>\n",
       "      <td>1.442584e+05</td>\n",
       "      <td>9.430367e+05</td>\n",
       "      <td>1.111909e+06</td>\n",
       "      <td>0.000000e+00</td>\n",
       "      <td>0.000000e+00</td>\n",
       "    </tr>\n",
       "    <tr>\n",
       "      <th>max</th>\n",
       "      <td>7.430000e+02</td>\n",
       "      <td>9.244552e+07</td>\n",
       "      <td>5.958504e+07</td>\n",
       "      <td>4.958504e+07</td>\n",
       "      <td>3.560159e+08</td>\n",
       "      <td>3.561793e+08</td>\n",
       "      <td>1.000000e+00</td>\n",
       "      <td>1.000000e+00</td>\n",
       "    </tr>\n",
       "  </tbody>\n",
       "</table>\n",
       "</div>"
      ],
      "text/plain": [
       "               step        amount  oldbalanceOrg  newbalanceOrig  \\\n",
       "count  6.362620e+06  6.362620e+06   6.362620e+06    6.362620e+06   \n",
       "mean   2.433972e+02  1.798619e+05   8.338831e+05    8.551137e+05   \n",
       "std    1.423320e+02  6.038582e+05   2.888243e+06    2.924049e+06   \n",
       "min    1.000000e+00  0.000000e+00   0.000000e+00    0.000000e+00   \n",
       "25%    1.560000e+02  1.338957e+04   0.000000e+00    0.000000e+00   \n",
       "50%    2.390000e+02  7.487194e+04   1.420800e+04    0.000000e+00   \n",
       "75%    3.350000e+02  2.087215e+05   1.073152e+05    1.442584e+05   \n",
       "max    7.430000e+02  9.244552e+07   5.958504e+07    4.958504e+07   \n",
       "\n",
       "       oldbalanceDest  newbalanceDest       isFraud  isFlaggedFraud  \n",
       "count    6.362620e+06    6.362620e+06  6.362620e+06    6.362620e+06  \n",
       "mean     1.100702e+06    1.224996e+06  1.290820e-03    2.514687e-06  \n",
       "std      3.399180e+06    3.674129e+06  3.590480e-02    1.585775e-03  \n",
       "min      0.000000e+00    0.000000e+00  0.000000e+00    0.000000e+00  \n",
       "25%      0.000000e+00    0.000000e+00  0.000000e+00    0.000000e+00  \n",
       "50%      1.327057e+05    2.146614e+05  0.000000e+00    0.000000e+00  \n",
       "75%      9.430367e+05    1.111909e+06  0.000000e+00    0.000000e+00  \n",
       "max      3.560159e+08    3.561793e+08  1.000000e+00    1.000000e+00  "
      ]
     },
     "execution_count": 4,
     "metadata": {},
     "output_type": "execute_result"
    }
   ],
   "source": [
    "df.describe()"
   ]
  },
  {
   "cell_type": "code",
   "execution_count": 5,
   "id": "d3f7d7f0",
   "metadata": {},
   "outputs": [],
   "source": [
    "import matplotlib.pyplot as plt\n",
    "import seaborn as sns\n",
    "import warnings \n",
    "warnings.filterwarnings('ignore')"
   ]
  },
  {
   "cell_type": "markdown",
   "id": "c892a377",
   "metadata": {},
   "source": [
    "# visualising \"isFraud\" 0 or 1"
   ]
  },
  {
   "cell_type": "code",
   "execution_count": 6,
   "id": "5f5e25a1",
   "metadata": {
    "scrolled": true
   },
   "outputs": [
    {
     "data": {
      "text/plain": [
       "<AxesSubplot:xlabel='isFraud', ylabel='isFlaggedFraud'>"
      ]
     },
     "execution_count": 6,
     "metadata": {},
     "output_type": "execute_result"
    },
    {
     "data": {
      "image/png": "[encoded data removed]",
      "text/plain": [
       "<Figure size 1080x2160 with 8 Axes>"
      ]
     },
     "metadata": {
      "needs_background": "light"
     },
     "output_type": "display_data"
    }
   ],
   "source": [
    "fig,ax=plt.subplots(4,2,figsize=(15,30))\n",
    "sns.countplot(x=df.type,ax=ax[0][0]).set_title('Type',size=15)\n",
    "sns.violinplot(x=df.isFraud,y=df['amount'],ax=ax[0][1])\n",
    "sns.violinplot(x=df.isFraud,y=df['oldbalanceOrg'],ax=ax[1][0])\n",
    "sns.violinplot(x=df.isFraud,y=df['newbalanceOrig'],ax=ax[1][1])\n",
    "sns.violinplot(x=df.isFraud,y=df['oldbalanceDest'],ax=ax[2][0])\n",
    "sns.violinplot(x=df.isFraud,y=df['newbalanceDest'],ax=ax[2][1])\n",
    "sns.violinplot(x=df.isFraud,y=df['isFlaggedFraud'],ax=ax[3][0])"
   ]
  },
  {
   "cell_type": "markdown",
   "id": "79dc6d75",
   "metadata": {},
   "source": [
    "# after visualising, we now move towards predicting the model"
   ]
  },
  {
   "cell_type": "code",
   "execution_count": 7,
   "id": "5c0a2b5e",
   "metadata": {},
   "outputs": [],
   "source": [
    "from pycaret.classification import *"
   ]
  },
  {
   "cell_type": "code",
   "execution_count": 8,
   "id": "1724122e",
   "metadata": {},
   "outputs": [],
   "source": [
    "from sklearn.model_selection import train_test_split\n",
    "from sklearn.metrics import accuracy_score"
   ]
  },
  {
   "cell_type": "code",
   "execution_count": 9,
   "id": "61d659bf",
   "metadata": {},
   "outputs": [],
   "source": [
    "df1 = df.drop(['step', 'nameOrig', 'nameDest', 'isFlaggedFraud'], axis = 1)"
   ]
  },
  {
   "cell_type": "code",
   "execution_count": 10,
   "id": "b87e2de2",
   "metadata": {},
   "outputs": [],
   "source": [
    "df_train, df_test = train_test_split(df1, random_state = 100, test_size = 0.5)"
   ]
  },
  {
   "cell_type": "code",
   "execution_count": 11,
   "id": "9d3b281d",
   "metadata": {
    "scrolled": true
   },
   "outputs": [
    {
     "data": {
      "text/html": [
       "<style type=\"text/css\">\n",
       "#T_a72a3_row9_col1, #T_a72a3_row15_col1 {\n",
       "  background-color: lightgreen;\n",
       "}\n",
       "</style>\n",
       "<table id=\"T_a72a3\">\n",
       "  <thead>\n",
       "    <tr>\n",
       "      <th class=\"blank level0\" >&nbsp;</th>\n",
       "      <th id=\"T_a72a3_level0_col0\" class=\"col_heading level0 col0\" >Description</th>\n",
       "      <th id=\"T_a72a3_level0_col1\" class=\"col_heading level0 col1\" >Value</th>\n",
       "    </tr>\n",
       "  </thead>\n",
       "  <tbody>\n",
       "    <tr>\n",
       "      <th id=\"T_a72a3_level0_row0\" class=\"row_heading level0 row0\" >0</th>\n",
       "      <td id=\"T_a72a3_row0_col0\" class=\"data row0 col0\" >Session id</td>\n",
       "      <td id=\"T_a72a3_row0_col1\" class=\"data row0 col1\" >100</td>\n",
       "    </tr>\n",
       "    <tr>\n",
       "      <th id=\"T_a72a3_level0_row1\" class=\"row_heading level0 row1\" >1</th>\n",
       "      <td id=\"T_a72a3_row1_col0\" class=\"data row1 col0\" >Target</td>\n",
       "      <td id=\"T_a72a3_row1_col1\" class=\"data row1 col1\" >isFraud</td>\n",
       "    </tr>\n",
       "    <tr>\n",
       "      <th id=\"T_a72a3_level0_row2\" class=\"row_heading level0 row2\" >2</th>\n",
       "      <td id=\"T_a72a3_row2_col0\" class=\"data row2 col0\" >Target type</td>\n",
       "      <td id=\"T_a72a3_row2_col1\" class=\"data row2 col1\" >Binary</td>\n",
       "    </tr>\n",
       "    <tr>\n",
       "      <th id=\"T_a72a3_level0_row3\" class=\"row_heading level0 row3\" >3</th>\n",
       "      <td id=\"T_a72a3_row3_col0\" class=\"data row3 col0\" >Original data shape</td>\n",
       "      <td id=\"T_a72a3_row3_col1\" class=\"data row3 col1\" >(3181310, 7)</td>\n",
       "    </tr>\n",
       "    <tr>\n",
       "      <th id=\"T_a72a3_level0_row4\" class=\"row_heading level0 row4\" >4</th>\n",
       "      <td id=\"T_a72a3_row4_col0\" class=\"data row4 col0\" >Transformed data shape</td>\n",
       "      <td id=\"T_a72a3_row4_col1\" class=\"data row4 col1\" >(3069964, 11)</td>\n",
       "    </tr>\n",
       "    <tr>\n",
       "      <th id=\"T_a72a3_level0_row5\" class=\"row_heading level0 row5\" >5</th>\n",
       "      <td id=\"T_a72a3_row5_col0\" class=\"data row5 col0\" >Transformed train set shape</td>\n",
       "      <td id=\"T_a72a3_row5_col1\" class=\"data row5 col1\" >(2115571, 11)</td>\n",
       "    </tr>\n",
       "    <tr>\n",
       "      <th id=\"T_a72a3_level0_row6\" class=\"row_heading level0 row6\" >6</th>\n",
       "      <td id=\"T_a72a3_row6_col0\" class=\"data row6 col0\" >Transformed test set shape</td>\n",
       "      <td id=\"T_a72a3_row6_col1\" class=\"data row6 col1\" >(954393, 11)</td>\n",
       "    </tr>\n",
       "    <tr>\n",
       "      <th id=\"T_a72a3_level0_row7\" class=\"row_heading level0 row7\" >7</th>\n",
       "      <td id=\"T_a72a3_row7_col0\" class=\"data row7 col0\" >Numeric features</td>\n",
       "      <td id=\"T_a72a3_row7_col1\" class=\"data row7 col1\" >5</td>\n",
       "    </tr>\n",
       "    <tr>\n",
       "      <th id=\"T_a72a3_level0_row8\" class=\"row_heading level0 row8\" >8</th>\n",
       "      <td id=\"T_a72a3_row8_col0\" class=\"data row8 col0\" >Categorical features</td>\n",
       "      <td id=\"T_a72a3_row8_col1\" class=\"data row8 col1\" >1</td>\n",
       "    </tr>\n",
       "    <tr>\n",
       "      <th id=\"T_a72a3_level0_row9\" class=\"row_heading level0 row9\" >9</th>\n",
       "      <td id=\"T_a72a3_row9_col0\" class=\"data row9 col0\" >Preprocess</td>\n",
       "      <td id=\"T_a72a3_row9_col1\" class=\"data row9 col1\" >True</td>\n",
       "    </tr>\n",
       "    <tr>\n",
       "      <th id=\"T_a72a3_level0_row10\" class=\"row_heading level0 row10\" >10</th>\n",
       "      <td id=\"T_a72a3_row10_col0\" class=\"data row10 col0\" >Imputation type</td>\n",
       "      <td id=\"T_a72a3_row10_col1\" class=\"data row10 col1\" >simple</td>\n",
       "    </tr>\n",
       "    <tr>\n",
       "      <th id=\"T_a72a3_level0_row11\" class=\"row_heading level0 row11\" >11</th>\n",
       "      <td id=\"T_a72a3_row11_col0\" class=\"data row11 col0\" >Numeric imputation</td>\n",
       "      <td id=\"T_a72a3_row11_col1\" class=\"data row11 col1\" >mean</td>\n",
       "    </tr>\n",
       "    <tr>\n",
       "      <th id=\"T_a72a3_level0_row12\" class=\"row_heading level0 row12\" >12</th>\n",
       "      <td id=\"T_a72a3_row12_col0\" class=\"data row12 col0\" >Categorical imputation</td>\n",
       "      <td id=\"T_a72a3_row12_col1\" class=\"data row12 col1\" >mode</td>\n",
       "    </tr>\n",
       "    <tr>\n",
       "      <th id=\"T_a72a3_level0_row13\" class=\"row_heading level0 row13\" >13</th>\n",
       "      <td id=\"T_a72a3_row13_col0\" class=\"data row13 col0\" >Maximum one-hot encoding</td>\n",
       "      <td id=\"T_a72a3_row13_col1\" class=\"data row13 col1\" >25</td>\n",
       "    </tr>\n",
       "    <tr>\n",
       "      <th id=\"T_a72a3_level0_row14\" class=\"row_heading level0 row14\" >14</th>\n",
       "      <td id=\"T_a72a3_row14_col0\" class=\"data row14 col0\" >Encoding method</td>\n",
       "      <td id=\"T_a72a3_row14_col1\" class=\"data row14 col1\" >None</td>\n",
       "    </tr>\n",
       "    <tr>\n",
       "      <th id=\"T_a72a3_level0_row15\" class=\"row_heading level0 row15\" >15</th>\n",
       "      <td id=\"T_a72a3_row15_col0\" class=\"data row15 col0\" >Remove outliers</td>\n",
       "      <td id=\"T_a72a3_row15_col1\" class=\"data row15 col1\" >True</td>\n",
       "    </tr>\n",
       "    <tr>\n",
       "      <th id=\"T_a72a3_level0_row16\" class=\"row_heading level0 row16\" >16</th>\n",
       "      <td id=\"T_a72a3_row16_col0\" class=\"data row16 col0\" >Outliers threshold</td>\n",
       "      <td id=\"T_a72a3_row16_col1\" class=\"data row16 col1\" >0.050000</td>\n",
       "    </tr>\n",
       "    <tr>\n",
       "      <th id=\"T_a72a3_level0_row17\" class=\"row_heading level0 row17\" >17</th>\n",
       "      <td id=\"T_a72a3_row17_col0\" class=\"data row17 col0\" >Fold Generator</td>\n",
       "      <td id=\"T_a72a3_row17_col1\" class=\"data row17 col1\" >StratifiedKFold</td>\n",
       "    </tr>\n",
       "    <tr>\n",
       "      <th id=\"T_a72a3_level0_row18\" class=\"row_heading level0 row18\" >18</th>\n",
       "      <td id=\"T_a72a3_row18_col0\" class=\"data row18 col0\" >Fold Number</td>\n",
       "      <td id=\"T_a72a3_row18_col1\" class=\"data row18 col1\" >10</td>\n",
       "    </tr>\n",
       "    <tr>\n",
       "      <th id=\"T_a72a3_level0_row19\" class=\"row_heading level0 row19\" >19</th>\n",
       "      <td id=\"T_a72a3_row19_col0\" class=\"data row19 col0\" >CPU Jobs</td>\n",
       "      <td id=\"T_a72a3_row19_col1\" class=\"data row19 col1\" >-1</td>\n",
       "    </tr>\n",
       "    <tr>\n",
       "      <th id=\"T_a72a3_level0_row20\" class=\"row_heading level0 row20\" >20</th>\n",
       "      <td id=\"T_a72a3_row20_col0\" class=\"data row20 col0\" >Use GPU</td>\n",
       "      <td id=\"T_a72a3_row20_col1\" class=\"data row20 col1\" >False</td>\n",
       "    </tr>\n",
       "    <tr>\n",
       "      <th id=\"T_a72a3_level0_row21\" class=\"row_heading level0 row21\" >21</th>\n",
       "      <td id=\"T_a72a3_row21_col0\" class=\"data row21 col0\" >Log Experiment</td>\n",
       "      <td id=\"T_a72a3_row21_col1\" class=\"data row21 col1\" >False</td>\n",
       "    </tr>\n",
       "    <tr>\n",
       "      <th id=\"T_a72a3_level0_row22\" class=\"row_heading level0 row22\" >22</th>\n",
       "      <td id=\"T_a72a3_row22_col0\" class=\"data row22 col0\" >Experiment Name</td>\n",
       "      <td id=\"T_a72a3_row22_col1\" class=\"data row22 col1\" >clf-default-name</td>\n",
       "    </tr>\n",
       "    <tr>\n",
       "      <th id=\"T_a72a3_level0_row23\" class=\"row_heading level0 row23\" >23</th>\n",
       "      <td id=\"T_a72a3_row23_col0\" class=\"data row23 col0\" >USI</td>\n",
       "      <td id=\"T_a72a3_row23_col1\" class=\"data row23 col1\" >cb67</td>\n",
       "    </tr>\n",
       "  </tbody>\n",
       "</table>\n"
      ],
      "text/plain": [
       "<pandas.io.formats.style.Styler at 0x1f4a42c3b80>"
      ]
     },
     "metadata": {},
     "output_type": "display_data"
    }
   ],
   "source": [
    "setup_df = setup(data= df_train, target = 'isFraud', \n",
    "                session_id=100, data_split_stratify=True, \n",
    "                remove_outliers=True)"
   ]
  },
  {
   "cell_type": "markdown",
   "id": "9a9eb0c5",
   "metadata": {},
   "source": [
    "# training & evaluating "
   ]
  },
  {
   "cell_type": "code",
   "execution_count": 12,
   "id": "8c51d36b",
   "metadata": {},
   "outputs": [],
   "source": [
    "#models = compare_models(n_select=3)\n",
    "#models"
   ]
  },
  {
   "cell_type": "markdown",
   "id": "f6ac4413",
   "metadata": {},
   "source": [
    "# creating model"
   ]
  },
  {
   "cell_type": "code",
   "execution_count": 13,
   "id": "4232d261",
   "metadata": {},
   "outputs": [
    {
     "data": {
      "text/html": [],
      "text/plain": [
       "<IPython.core.display.HTML object>"
      ]
     },
     "metadata": {},
     "output_type": "display_data"
    },
    {
     "data": {
      "text/html": [
       "<style type=\"text/css\">\n",
       "#T_61a7e_row10_col0, #T_61a7e_row10_col1, #T_61a7e_row10_col2, #T_61a7e_row10_col3, #T_61a7e_row10_col4, #T_61a7e_row10_col5, #T_61a7e_row10_col6 {\n",
       "  background: yellow;\n",
       "}\n",
       "</style>\n",
       "<table id=\"T_61a7e\">\n",
       "  <thead>\n",
       "    <tr>\n",
       "      <th class=\"blank level0\" >&nbsp;</th>\n",
       "      <th id=\"T_61a7e_level0_col0\" class=\"col_heading level0 col0\" >Accuracy</th>\n",
       "      <th id=\"T_61a7e_level0_col1\" class=\"col_heading level0 col1\" >AUC</th>\n",
       "      <th id=\"T_61a7e_level0_col2\" class=\"col_heading level0 col2\" >Recall</th>\n",
       "      <th id=\"T_61a7e_level0_col3\" class=\"col_heading level0 col3\" >Prec.</th>\n",
       "      <th id=\"T_61a7e_level0_col4\" class=\"col_heading level0 col4\" >F1</th>\n",
       "      <th id=\"T_61a7e_level0_col5\" class=\"col_heading level0 col5\" >Kappa</th>\n",
       "      <th id=\"T_61a7e_level0_col6\" class=\"col_heading level0 col6\" >MCC</th>\n",
       "    </tr>\n",
       "    <tr>\n",
       "      <th class=\"index_name level0\" >Fold</th>\n",
       "      <th class=\"blank col0\" >&nbsp;</th>\n",
       "      <th class=\"blank col1\" >&nbsp;</th>\n",
       "      <th class=\"blank col2\" >&nbsp;</th>\n",
       "      <th class=\"blank col3\" >&nbsp;</th>\n",
       "      <th class=\"blank col4\" >&nbsp;</th>\n",
       "      <th class=\"blank col5\" >&nbsp;</th>\n",
       "      <th class=\"blank col6\" >&nbsp;</th>\n",
       "    </tr>\n",
       "  </thead>\n",
       "  <tbody>\n",
       "    <tr>\n",
       "      <th id=\"T_61a7e_level0_row0\" class=\"row_heading level0 row0\" >0</th>\n",
       "      <td id=\"T_61a7e_row0_col0\" class=\"data row0 col0\" >0.9996</td>\n",
       "      <td id=\"T_61a7e_row0_col1\" class=\"data row0 col1\" >0.9997</td>\n",
       "      <td id=\"T_61a7e_row0_col2\" class=\"data row0 col2\" >0.7657</td>\n",
       "      <td id=\"T_61a7e_row0_col3\" class=\"data row0 col3\" >0.9440</td>\n",
       "      <td id=\"T_61a7e_row0_col4\" class=\"data row0 col4\" >0.8456</td>\n",
       "      <td id=\"T_61a7e_row0_col5\" class=\"data row0 col5\" >0.8454</td>\n",
       "      <td id=\"T_61a7e_row0_col6\" class=\"data row0 col6\" >0.8500</td>\n",
       "    </tr>\n",
       "    <tr>\n",
       "      <th id=\"T_61a7e_level0_row1\" class=\"row_heading level0 row1\" >1</th>\n",
       "      <td id=\"T_61a7e_row1_col0\" class=\"data row1 col0\" >0.9997</td>\n",
       "      <td id=\"T_61a7e_row1_col1\" class=\"data row1 col1\" >0.9996</td>\n",
       "      <td id=\"T_61a7e_row1_col2\" class=\"data row1 col2\" >0.7832</td>\n",
       "      <td id=\"T_61a7e_row1_col3\" class=\"data row1 col3\" >0.9492</td>\n",
       "      <td id=\"T_61a7e_row1_col4\" class=\"data row1 col4\" >0.8582</td>\n",
       "      <td id=\"T_61a7e_row1_col5\" class=\"data row1 col5\" >0.8581</td>\n",
       "      <td id=\"T_61a7e_row1_col6\" class=\"data row1 col6\" >0.8620</td>\n",
       "    </tr>\n",
       "    <tr>\n",
       "      <th id=\"T_61a7e_level0_row2\" class=\"row_heading level0 row2\" >2</th>\n",
       "      <td id=\"T_61a7e_row2_col0\" class=\"data row2 col0\" >0.9997</td>\n",
       "      <td id=\"T_61a7e_row2_col1\" class=\"data row2 col1\" >0.9989</td>\n",
       "      <td id=\"T_61a7e_row2_col2\" class=\"data row2 col2\" >0.7902</td>\n",
       "      <td id=\"T_61a7e_row2_col3\" class=\"data row2 col3\" >0.9417</td>\n",
       "      <td id=\"T_61a7e_row2_col4\" class=\"data row2 col4\" >0.8593</td>\n",
       "      <td id=\"T_61a7e_row2_col5\" class=\"data row2 col5\" >0.8592</td>\n",
       "      <td id=\"T_61a7e_row2_col6\" class=\"data row2 col6\" >0.8625</td>\n",
       "    </tr>\n",
       "    <tr>\n",
       "      <th id=\"T_61a7e_level0_row3\" class=\"row_heading level0 row3\" >3</th>\n",
       "      <td id=\"T_61a7e_row3_col0\" class=\"data row3 col0\" >0.9997</td>\n",
       "      <td id=\"T_61a7e_row3_col1\" class=\"data row3 col1\" >0.9997</td>\n",
       "      <td id=\"T_61a7e_row3_col2\" class=\"data row3 col2\" >0.8188</td>\n",
       "      <td id=\"T_61a7e_row3_col3\" class=\"data row3 col3\" >0.9671</td>\n",
       "      <td id=\"T_61a7e_row3_col4\" class=\"data row3 col4\" >0.8868</td>\n",
       "      <td id=\"T_61a7e_row3_col5\" class=\"data row3 col5\" >0.8867</td>\n",
       "      <td id=\"T_61a7e_row3_col6\" class=\"data row3 col6\" >0.8897</td>\n",
       "    </tr>\n",
       "    <tr>\n",
       "      <th id=\"T_61a7e_level0_row4\" class=\"row_heading level0 row4\" >4</th>\n",
       "      <td id=\"T_61a7e_row4_col0\" class=\"data row4 col0\" >0.9997</td>\n",
       "      <td id=\"T_61a7e_row4_col1\" class=\"data row4 col1\" >0.9996</td>\n",
       "      <td id=\"T_61a7e_row4_col2\" class=\"data row4 col2\" >0.7805</td>\n",
       "      <td id=\"T_61a7e_row4_col3\" class=\"data row4 col3\" >0.9782</td>\n",
       "      <td id=\"T_61a7e_row4_col4\" class=\"data row4 col4\" >0.8682</td>\n",
       "      <td id=\"T_61a7e_row4_col5\" class=\"data row4 col5\" >0.8681</td>\n",
       "      <td id=\"T_61a7e_row4_col6\" class=\"data row4 col6\" >0.8736</td>\n",
       "    </tr>\n",
       "    <tr>\n",
       "      <th id=\"T_61a7e_level0_row5\" class=\"row_heading level0 row5\" >5</th>\n",
       "      <td id=\"T_61a7e_row5_col0\" class=\"data row5 col0\" >0.9997</td>\n",
       "      <td id=\"T_61a7e_row5_col1\" class=\"data row5 col1\" >0.9948</td>\n",
       "      <td id=\"T_61a7e_row5_col2\" class=\"data row5 col2\" >0.7735</td>\n",
       "      <td id=\"T_61a7e_row5_col3\" class=\"data row5 col3\" >0.9487</td>\n",
       "      <td id=\"T_61a7e_row5_col4\" class=\"data row5 col4\" >0.8522</td>\n",
       "      <td id=\"T_61a7e_row5_col5\" class=\"data row5 col5\" >0.8520</td>\n",
       "      <td id=\"T_61a7e_row5_col6\" class=\"data row5 col6\" >0.8565</td>\n",
       "    </tr>\n",
       "    <tr>\n",
       "      <th id=\"T_61a7e_level0_row6\" class=\"row_heading level0 row6\" >6</th>\n",
       "      <td id=\"T_61a7e_row6_col0\" class=\"data row6 col0\" >0.9997</td>\n",
       "      <td id=\"T_61a7e_row6_col1\" class=\"data row6 col1\" >0.9997</td>\n",
       "      <td id=\"T_61a7e_row6_col2\" class=\"data row6 col2\" >0.7666</td>\n",
       "      <td id=\"T_61a7e_row6_col3\" class=\"data row6 col3\" >0.9607</td>\n",
       "      <td id=\"T_61a7e_row6_col4\" class=\"data row6 col4\" >0.8527</td>\n",
       "      <td id=\"T_61a7e_row6_col5\" class=\"data row6 col5\" >0.8525</td>\n",
       "      <td id=\"T_61a7e_row6_col6\" class=\"data row6 col6\" >0.8580</td>\n",
       "    </tr>\n",
       "    <tr>\n",
       "      <th id=\"T_61a7e_level0_row7\" class=\"row_heading level0 row7\" >7</th>\n",
       "      <td id=\"T_61a7e_row7_col0\" class=\"data row7 col0\" >0.9996</td>\n",
       "      <td id=\"T_61a7e_row7_col1\" class=\"data row7 col1\" >0.9985</td>\n",
       "      <td id=\"T_61a7e_row7_col2\" class=\"data row7 col2\" >0.7378</td>\n",
       "      <td id=\"T_61a7e_row7_col3\" class=\"data row7 col3\" >0.9814</td>\n",
       "      <td id=\"T_61a7e_row7_col4\" class=\"data row7 col4\" >0.8423</td>\n",
       "      <td id=\"T_61a7e_row7_col5\" class=\"data row7 col5\" >0.8421</td>\n",
       "      <td id=\"T_61a7e_row7_col6\" class=\"data row7 col6\" >0.8507</td>\n",
       "    </tr>\n",
       "    <tr>\n",
       "      <th id=\"T_61a7e_level0_row8\" class=\"row_heading level0 row8\" >8</th>\n",
       "      <td id=\"T_61a7e_row8_col0\" class=\"data row8 col0\" >0.9996</td>\n",
       "      <td id=\"T_61a7e_row8_col1\" class=\"data row8 col1\" >0.9996</td>\n",
       "      <td id=\"T_61a7e_row8_col2\" class=\"data row8 col2\" >0.7483</td>\n",
       "      <td id=\"T_61a7e_row8_col3\" class=\"data row8 col3\" >0.9683</td>\n",
       "      <td id=\"T_61a7e_row8_col4\" class=\"data row8 col4\" >0.8442</td>\n",
       "      <td id=\"T_61a7e_row8_col5\" class=\"data row8 col5\" >0.8440</td>\n",
       "      <td id=\"T_61a7e_row8_col6\" class=\"data row8 col6\" >0.8510</td>\n",
       "    </tr>\n",
       "    <tr>\n",
       "      <th id=\"T_61a7e_level0_row9\" class=\"row_heading level0 row9\" >9</th>\n",
       "      <td id=\"T_61a7e_row9_col0\" class=\"data row9 col0\" >0.9996</td>\n",
       "      <td id=\"T_61a7e_row9_col1\" class=\"data row9 col1\" >0.9996</td>\n",
       "      <td id=\"T_61a7e_row9_col2\" class=\"data row9 col2\" >0.7378</td>\n",
       "      <td id=\"T_61a7e_row9_col3\" class=\"data row9 col3\" >0.9635</td>\n",
       "      <td id=\"T_61a7e_row9_col4\" class=\"data row9 col4\" >0.8356</td>\n",
       "      <td id=\"T_61a7e_row9_col5\" class=\"data row9 col5\" >0.8355</td>\n",
       "      <td id=\"T_61a7e_row9_col6\" class=\"data row9 col6\" >0.8429</td>\n",
       "    </tr>\n",
       "    <tr>\n",
       "      <th id=\"T_61a7e_level0_row10\" class=\"row_heading level0 row10\" >Mean</th>\n",
       "      <td id=\"T_61a7e_row10_col0\" class=\"data row10 col0\" >0.9997</td>\n",
       "      <td id=\"T_61a7e_row10_col1\" class=\"data row10 col1\" >0.9990</td>\n",
       "      <td id=\"T_61a7e_row10_col2\" class=\"data row10 col2\" >0.7702</td>\n",
       "      <td id=\"T_61a7e_row10_col3\" class=\"data row10 col3\" >0.9603</td>\n",
       "      <td id=\"T_61a7e_row10_col4\" class=\"data row10 col4\" >0.8545</td>\n",
       "      <td id=\"T_61a7e_row10_col5\" class=\"data row10 col5\" >0.8544</td>\n",
       "      <td id=\"T_61a7e_row10_col6\" class=\"data row10 col6\" >0.8597</td>\n",
       "    </tr>\n",
       "    <tr>\n",
       "      <th id=\"T_61a7e_level0_row11\" class=\"row_heading level0 row11\" >Std</th>\n",
       "      <td id=\"T_61a7e_row11_col0\" class=\"data row11 col0\" >0.0000</td>\n",
       "      <td id=\"T_61a7e_row11_col1\" class=\"data row11 col1\" >0.0015</td>\n",
       "      <td id=\"T_61a7e_row11_col2\" class=\"data row11 col2\" >0.0238</td>\n",
       "      <td id=\"T_61a7e_row11_col3\" class=\"data row11 col3\" >0.0133</td>\n",
       "      <td id=\"T_61a7e_row11_col4\" class=\"data row11 col4\" >0.0140</td>\n",
       "      <td id=\"T_61a7e_row11_col5\" class=\"data row11 col5\" >0.0140</td>\n",
       "      <td id=\"T_61a7e_row11_col6\" class=\"data row11 col6\" >0.0129</td>\n",
       "    </tr>\n",
       "  </tbody>\n",
       "</table>\n"
      ],
      "text/plain": [
       "<pandas.io.formats.style.Styler at 0x1f4a43fe7a0>"
      ]
     },
     "metadata": {},
     "output_type": "display_data"
    },
    {
     "data": {
      "application/vnd.jupyter.widget-view+json": {
       "model_id": "",
       "version_major": 2,
       "version_minor": 0
      },
      "text/plain": [
       "Processing:   0%|          | 0/4 [00:00<?, ?it/s]"
      ]
     },
     "metadata": {},
     "output_type": "display_data"
    }
   ],
   "source": [
    "xgb = create_model(\"xgboost\")"
   ]
  },
  {
   "cell_type": "code",
   "execution_count": 14,
   "id": "0d25fee4",
   "metadata": {},
   "outputs": [
    {
     "data": {
      "text/html": [],
      "text/plain": [
       "<IPython.core.display.HTML object>"
      ]
     },
     "metadata": {},
     "output_type": "display_data"
    },
    {
     "data": {
      "image/png": "[encoded data removed]",
      "text/plain": [
       "<Figure size 432x288 with 1 Axes>"
      ]
     },
     "metadata": {
      "needs_background": "light"
     },
     "output_type": "display_data"
    }
   ],
   "source": [
    "plot_model(estimator = xgb , plot = \"learning\")"
   ]
  },
  {
   "cell_type": "code",
   "execution_count": 15,
   "id": "95c22173",
   "metadata": {},
   "outputs": [
    {
     "data": {
      "text/html": [],
      "text/plain": [
       "<IPython.core.display.HTML object>"
      ]
     },
     "metadata": {},
     "output_type": "display_data"
    },
    {
     "data": {
      "image/png": "[encoded data removed]",
      "text/plain": [
       "<Figure size 432x288 with 1 Axes>"
      ]
     },
     "metadata": {
      "needs_background": "light"
     },
     "output_type": "display_data"
    }
   ],
   "source": [
    "plot_model(estimator = xgb, plot = \"auc\")"
   ]
  },
  {
   "cell_type": "code",
   "execution_count": 16,
   "id": "2f5ff463",
   "metadata": {},
   "outputs": [
    {
     "data": {
      "text/html": [],
      "text/plain": [
       "<IPython.core.display.HTML object>"
      ]
     },
     "metadata": {},
     "output_type": "display_data"
    },
    {
     "data": {
      "image/png": "[encoded data removed]",
      "text/plain": [
       "<Figure size 432x288 with 1 Axes>"
      ]
     },
     "metadata": {
      "needs_background": "light"
     },
     "output_type": "display_data"
    }
   ],
   "source": [
    "plot_model(estimator = xgb, plot = \"confusion_matrix\", plot_kwargs = {'percent' : True})"
   ]
  },
  {
   "cell_type": "code",
   "execution_count": 17,
   "id": "6cdc9a8a",
   "metadata": {
    "scrolled": true
   },
   "outputs": [
    {
     "data": {
      "text/html": [],
      "text/plain": [
       "<IPython.core.display.HTML object>"
      ]
     },
     "metadata": {},
     "output_type": "display_data"
    },
    {
     "data": {
      "image/png": "[encoded data removed]",
      "text/plain": [
       "<Figure size 432x288 with 1 Axes>"
      ]
     },
     "metadata": {
      "needs_background": "light"
     },
     "output_type": "display_data"
    }
   ],
   "source": [
    "plot_model(estimator = xgb, plot = \"error\")"
   ]
  },
  {
   "cell_type": "code",
   "execution_count": 18,
   "id": "613c8171",
   "metadata": {},
   "outputs": [
    {
     "data": {
      "text/html": [],
      "text/plain": [
       "<IPython.core.display.HTML object>"
      ]
     },
     "metadata": {},
     "output_type": "display_data"
    },
    {
     "data": {
      "image/png": "[encoded data removed]",
      "text/plain": [
       "<Figure size 432x288 with 2 Axes>"
      ]
     },
     "metadata": {
      "needs_background": "light"
     },
     "output_type": "display_data"
    }
   ],
   "source": [
    "plot_model(estimator = xgb, plot = \"class_report\")"
   ]
  },
  {
   "cell_type": "code",
   "execution_count": 19,
   "id": "1972e72f",
   "metadata": {},
   "outputs": [
    {
     "data": {
      "text/html": [],
      "text/plain": [
       "<IPython.core.display.HTML object>"
      ]
     },
     "metadata": {},
     "output_type": "display_data"
    },
    {
     "data": {
      "image/png": "[encoded data removed]",
      "text/plain": [
       "<Figure size 432x288 with 1 Axes>"
      ]
     },
     "metadata": {
      "needs_background": "light"
     },
     "output_type": "display_data"
    }
   ],
   "source": [
    "plot_model(estimator = xgb, plot = \"boundary\")"
   ]
  },
  {
   "cell_type": "markdown",
   "id": "bd2b1c74",
   "metadata": {},
   "source": [
    "# predicting model"
   ]
  },
  {
   "cell_type": "code",
   "execution_count": 20,
   "id": "be128042",
   "metadata": {},
   "outputs": [
    {
     "data": {
      "text/html": [
       "<style type=\"text/css\">\n",
       "</style>\n",
       "<table id=\"T_eed57\">\n",
       "  <thead>\n",
       "    <tr>\n",
       "      <th class=\"blank level0\" >&nbsp;</th>\n",
       "      <th id=\"T_eed57_level0_col0\" class=\"col_heading level0 col0\" >Model</th>\n",
       "      <th id=\"T_eed57_level0_col1\" class=\"col_heading level0 col1\" >Accuracy</th>\n",
       "      <th id=\"T_eed57_level0_col2\" class=\"col_heading level0 col2\" >AUC</th>\n",
       "      <th id=\"T_eed57_level0_col3\" class=\"col_heading level0 col3\" >Recall</th>\n",
       "      <th id=\"T_eed57_level0_col4\" class=\"col_heading level0 col4\" >Prec.</th>\n",
       "      <th id=\"T_eed57_level0_col5\" class=\"col_heading level0 col5\" >F1</th>\n",
       "      <th id=\"T_eed57_level0_col6\" class=\"col_heading level0 col6\" >Kappa</th>\n",
       "      <th id=\"T_eed57_level0_col7\" class=\"col_heading level0 col7\" >MCC</th>\n",
       "    </tr>\n",
       "  </thead>\n",
       "  <tbody>\n",
       "    <tr>\n",
       "      <th id=\"T_eed57_level0_row0\" class=\"row_heading level0 row0\" >0</th>\n",
       "      <td id=\"T_eed57_row0_col0\" class=\"data row0 col0\" >Extreme Gradient Boosting</td>\n",
       "      <td id=\"T_eed57_row0_col1\" class=\"data row0 col1\" >0.9997</td>\n",
       "      <td id=\"T_eed57_row0_col2\" class=\"data row0 col2\" >0.9983</td>\n",
       "      <td id=\"T_eed57_row0_col3\" class=\"data row0 col3\" >0.7647</td>\n",
       "      <td id=\"T_eed57_row0_col4\" class=\"data row0 col4\" >0.9543</td>\n",
       "      <td id=\"T_eed57_row0_col5\" class=\"data row0 col5\" >0.8490</td>\n",
       "      <td id=\"T_eed57_row0_col6\" class=\"data row0 col6\" >0.8488</td>\n",
       "      <td id=\"T_eed57_row0_col7\" class=\"data row0 col7\" >0.8541</td>\n",
       "    </tr>\n",
       "  </tbody>\n",
       "</table>\n"
      ],
      "text/plain": [
       "<pandas.io.formats.style.Styler at 0x1f4a4484070>"
      ]
     },
     "metadata": {},
     "output_type": "display_data"
    }
   ],
   "source": [
    "predict_model(xgb);"
   ]
  },
  {
   "cell_type": "code",
   "execution_count": 21,
   "id": "0200088d",
   "metadata": {},
   "outputs": [
    {
     "data": {
      "text/html": [
       "<style type=\"text/css\">\n",
       "</style>\n",
       "<table id=\"T_91c6d\">\n",
       "  <thead>\n",
       "    <tr>\n",
       "      <th class=\"blank level0\" >&nbsp;</th>\n",
       "      <th id=\"T_91c6d_level0_col0\" class=\"col_heading level0 col0\" >Model</th>\n",
       "      <th id=\"T_91c6d_level0_col1\" class=\"col_heading level0 col1\" >Accuracy</th>\n",
       "      <th id=\"T_91c6d_level0_col2\" class=\"col_heading level0 col2\" >AUC</th>\n",
       "      <th id=\"T_91c6d_level0_col3\" class=\"col_heading level0 col3\" >Recall</th>\n",
       "      <th id=\"T_91c6d_level0_col4\" class=\"col_heading level0 col4\" >Prec.</th>\n",
       "      <th id=\"T_91c6d_level0_col5\" class=\"col_heading level0 col5\" >F1</th>\n",
       "      <th id=\"T_91c6d_level0_col6\" class=\"col_heading level0 col6\" >Kappa</th>\n",
       "      <th id=\"T_91c6d_level0_col7\" class=\"col_heading level0 col7\" >MCC</th>\n",
       "    </tr>\n",
       "  </thead>\n",
       "  <tbody>\n",
       "    <tr>\n",
       "      <th id=\"T_91c6d_level0_row0\" class=\"row_heading level0 row0\" >0</th>\n",
       "      <td id=\"T_91c6d_row0_col0\" class=\"data row0 col0\" >Extreme Gradient Boosting</td>\n",
       "      <td id=\"T_91c6d_row0_col1\" class=\"data row0 col1\" >0.9997</td>\n",
       "      <td id=\"T_91c6d_row0_col2\" class=\"data row0 col2\" >0.9991</td>\n",
       "      <td id=\"T_91c6d_row0_col3\" class=\"data row0 col3\" >0.7700</td>\n",
       "      <td id=\"T_91c6d_row0_col4\" class=\"data row0 col4\" >0.9595</td>\n",
       "      <td id=\"T_91c6d_row0_col5\" class=\"data row0 col5\" >0.8543</td>\n",
       "      <td id=\"T_91c6d_row0_col6\" class=\"data row0 col6\" >0.8542</td>\n",
       "      <td id=\"T_91c6d_row0_col7\" class=\"data row0 col7\" >0.8594</td>\n",
       "    </tr>\n",
       "  </tbody>\n",
       "</table>\n"
      ],
      "text/plain": [
       "<pandas.io.formats.style.Styler at 0x1f4a3cdcee0>"
      ]
     },
     "metadata": {},
     "output_type": "display_data"
    },
    {
     "data": {
      "text/html": [
       "<div>\n",
       "<style scoped>\n",
       "    .dataframe tbody tr th:only-of-type {\n",
       "        vertical-align: middle;\n",
       "    }\n",
       "\n",
       "    .dataframe tbody tr th {\n",
       "        vertical-align: top;\n",
       "    }\n",
       "\n",
       "    .dataframe thead th {\n",
       "        text-align: right;\n",
       "    }\n",
       "</style>\n",
       "<table border=\"1\" class=\"dataframe\">\n",
       "  <thead>\n",
       "    <tr style=\"text-align: right;\">\n",
       "      <th></th>\n",
       "      <th>type</th>\n",
       "      <th>amount</th>\n",
       "      <th>oldbalanceOrg</th>\n",
       "      <th>newbalanceOrig</th>\n",
       "      <th>oldbalanceDest</th>\n",
       "      <th>newbalanceDest</th>\n",
       "      <th>isFraud</th>\n",
       "      <th>prediction_label</th>\n",
       "      <th>prediction_score</th>\n",
       "    </tr>\n",
       "  </thead>\n",
       "  <tbody>\n",
       "    <tr>\n",
       "      <th>3763599</th>\n",
       "      <td>CASH_IN</td>\n",
       "      <td>171969.531250</td>\n",
       "      <td>10569770.0</td>\n",
       "      <td>1.074174e+07</td>\n",
       "      <td>2.056990e+06</td>\n",
       "      <td>1.885020e+06</td>\n",
       "      <td>0</td>\n",
       "      <td>0</td>\n",
       "      <td>1.0</td>\n",
       "    </tr>\n",
       "    <tr>\n",
       "      <th>1595120</th>\n",
       "      <td>CASH_IN</td>\n",
       "      <td>144349.093750</td>\n",
       "      <td>4854638.5</td>\n",
       "      <td>4.998988e+06</td>\n",
       "      <td>2.367885e+05</td>\n",
       "      <td>9.243944e+04</td>\n",
       "      <td>0</td>\n",
       "      <td>0</td>\n",
       "      <td>1.0</td>\n",
       "    </tr>\n",
       "    <tr>\n",
       "      <th>17629</th>\n",
       "      <td>CASH_IN</td>\n",
       "      <td>154612.312500</td>\n",
       "      <td>12450461.0</td>\n",
       "      <td>1.260507e+07</td>\n",
       "      <td>2.443607e+05</td>\n",
       "      <td>3.242946e+05</td>\n",
       "      <td>0</td>\n",
       "      <td>0</td>\n",
       "      <td>1.0</td>\n",
       "    </tr>\n",
       "    <tr>\n",
       "      <th>5558446</th>\n",
       "      <td>CASH_OUT</td>\n",
       "      <td>91047.460938</td>\n",
       "      <td>11622.0</td>\n",
       "      <td>0.000000e+00</td>\n",
       "      <td>2.060233e+06</td>\n",
       "      <td>2.151280e+06</td>\n",
       "      <td>0</td>\n",
       "      <td>0</td>\n",
       "      <td>1.0</td>\n",
       "    </tr>\n",
       "    <tr>\n",
       "      <th>2382999</th>\n",
       "      <td>CASH_IN</td>\n",
       "      <td>120696.046875</td>\n",
       "      <td>78430.0</td>\n",
       "      <td>1.991260e+05</td>\n",
       "      <td>1.038196e+06</td>\n",
       "      <td>9.175002e+05</td>\n",
       "      <td>0</td>\n",
       "      <td>0</td>\n",
       "      <td>1.0</td>\n",
       "    </tr>\n",
       "    <tr>\n",
       "      <th>...</th>\n",
       "      <td>...</td>\n",
       "      <td>...</td>\n",
       "      <td>...</td>\n",
       "      <td>...</td>\n",
       "      <td>...</td>\n",
       "      <td>...</td>\n",
       "      <td>...</td>\n",
       "      <td>...</td>\n",
       "      <td>...</td>\n",
       "    </tr>\n",
       "    <tr>\n",
       "      <th>1268405</th>\n",
       "      <td>CASH_IN</td>\n",
       "      <td>115178.343750</td>\n",
       "      <td>9086.0</td>\n",
       "      <td>1.242643e+05</td>\n",
       "      <td>0.000000e+00</td>\n",
       "      <td>0.000000e+00</td>\n",
       "      <td>0</td>\n",
       "      <td>0</td>\n",
       "      <td>1.0</td>\n",
       "    </tr>\n",
       "    <tr>\n",
       "      <th>679163</th>\n",
       "      <td>TRANSFER</td>\n",
       "      <td>58541.421875</td>\n",
       "      <td>0.0</td>\n",
       "      <td>0.000000e+00</td>\n",
       "      <td>2.814836e+06</td>\n",
       "      <td>2.873378e+06</td>\n",
       "      <td>0</td>\n",
       "      <td>0</td>\n",
       "      <td>1.0</td>\n",
       "    </tr>\n",
       "    <tr>\n",
       "      <th>739905</th>\n",
       "      <td>CASH_OUT</td>\n",
       "      <td>149415.687500</td>\n",
       "      <td>0.0</td>\n",
       "      <td>0.000000e+00</td>\n",
       "      <td>2.773561e+06</td>\n",
       "      <td>2.922977e+06</td>\n",
       "      <td>0</td>\n",
       "      <td>0</td>\n",
       "      <td>1.0</td>\n",
       "    </tr>\n",
       "    <tr>\n",
       "      <th>3375380</th>\n",
       "      <td>CASH_OUT</td>\n",
       "      <td>489547.187500</td>\n",
       "      <td>59246.0</td>\n",
       "      <td>0.000000e+00</td>\n",
       "      <td>6.494096e+05</td>\n",
       "      <td>1.138957e+06</td>\n",
       "      <td>0</td>\n",
       "      <td>0</td>\n",
       "      <td>1.0</td>\n",
       "    </tr>\n",
       "    <tr>\n",
       "      <th>583466</th>\n",
       "      <td>CASH_OUT</td>\n",
       "      <td>246507.640625</td>\n",
       "      <td>0.0</td>\n",
       "      <td>0.000000e+00</td>\n",
       "      <td>2.621057e+05</td>\n",
       "      <td>5.086134e+05</td>\n",
       "      <td>0</td>\n",
       "      <td>0</td>\n",
       "      <td>1.0</td>\n",
       "    </tr>\n",
       "  </tbody>\n",
       "</table>\n",
       "<p>3181310 rows × 9 columns</p>\n",
       "</div>"
      ],
      "text/plain": [
       "             type         amount  oldbalanceOrg  newbalanceOrig  \\\n",
       "3763599   CASH_IN  171969.531250     10569770.0    1.074174e+07   \n",
       "1595120   CASH_IN  144349.093750      4854638.5    4.998988e+06   \n",
       "17629     CASH_IN  154612.312500     12450461.0    1.260507e+07   \n",
       "5558446  CASH_OUT   91047.460938        11622.0    0.000000e+00   \n",
       "2382999   CASH_IN  120696.046875        78430.0    1.991260e+05   \n",
       "...           ...            ...            ...             ...   \n",
       "1268405   CASH_IN  115178.343750         9086.0    1.242643e+05   \n",
       "679163   TRANSFER   58541.421875            0.0    0.000000e+00   \n",
       "739905   CASH_OUT  149415.687500            0.0    0.000000e+00   \n",
       "3375380  CASH_OUT  489547.187500        59246.0    0.000000e+00   \n",
       "583466   CASH_OUT  246507.640625            0.0    0.000000e+00   \n",
       "\n",
       "         oldbalanceDest  newbalanceDest  isFraud  prediction_label  \\\n",
       "3763599    2.056990e+06    1.885020e+06        0                 0   \n",
       "1595120    2.367885e+05    9.243944e+04        0                 0   \n",
       "17629      2.443607e+05    3.242946e+05        0                 0   \n",
       "5558446    2.060233e+06    2.151280e+06        0                 0   \n",
       "2382999    1.038196e+06    9.175002e+05        0                 0   \n",
       "...                 ...             ...      ...               ...   \n",
       "1268405    0.000000e+00    0.000000e+00        0                 0   \n",
       "679163     2.814836e+06    2.873378e+06        0                 0   \n",
       "739905     2.773561e+06    2.922977e+06        0                 0   \n",
       "3375380    6.494096e+05    1.138957e+06        0                 0   \n",
       "583466     2.621057e+05    5.086134e+05        0                 0   \n",
       "\n",
       "         prediction_score  \n",
       "3763599               1.0  \n",
       "1595120               1.0  \n",
       "17629                 1.0  \n",
       "5558446               1.0  \n",
       "2382999               1.0  \n",
       "...                   ...  \n",
       "1268405               1.0  \n",
       "679163                1.0  \n",
       "739905                1.0  \n",
       "3375380               1.0  \n",
       "583466                1.0  \n",
       "\n",
       "[3181310 rows x 9 columns]"
      ]
     },
     "execution_count": 21,
     "metadata": {},
     "output_type": "execute_result"
    }
   ],
   "source": [
    "pred = predict_model(xgb, data=df_test)\n",
    "pred"
   ]
  },
  {
   "cell_type": "code",
   "execution_count": 22,
   "id": "a30ab952",
   "metadata": {},
   "outputs": [
    {
     "data": {
      "text/html": [
       "<div>\n",
       "<style scoped>\n",
       "    .dataframe tbody tr th:only-of-type {\n",
       "        vertical-align: middle;\n",
       "    }\n",
       "\n",
       "    .dataframe tbody tr th {\n",
       "        vertical-align: top;\n",
       "    }\n",
       "\n",
       "    .dataframe thead th {\n",
       "        text-align: right;\n",
       "    }\n",
       "</style>\n",
       "<table border=\"1\" class=\"dataframe\">\n",
       "  <thead>\n",
       "    <tr style=\"text-align: right;\">\n",
       "      <th></th>\n",
       "      <th>type</th>\n",
       "      <th>amount</th>\n",
       "      <th>oldbalanceOrg</th>\n",
       "      <th>newbalanceOrig</th>\n",
       "      <th>oldbalanceDest</th>\n",
       "      <th>newbalanceDest</th>\n",
       "      <th>isFraud</th>\n",
       "      <th>prediction_label</th>\n",
       "      <th>prediction_score</th>\n",
       "    </tr>\n",
       "  </thead>\n",
       "  <tbody>\n",
       "    <tr>\n",
       "      <th>3763599</th>\n",
       "      <td>CASH_IN</td>\n",
       "      <td>171969.531250</td>\n",
       "      <td>10569770.0</td>\n",
       "      <td>1.074174e+07</td>\n",
       "      <td>2.056990e+06</td>\n",
       "      <td>1.885020e+06</td>\n",
       "      <td>0</td>\n",
       "      <td>0</td>\n",
       "      <td>1.0</td>\n",
       "    </tr>\n",
       "    <tr>\n",
       "      <th>1595120</th>\n",
       "      <td>CASH_IN</td>\n",
       "      <td>144349.093750</td>\n",
       "      <td>4854638.5</td>\n",
       "      <td>4.998988e+06</td>\n",
       "      <td>2.367885e+05</td>\n",
       "      <td>9.243944e+04</td>\n",
       "      <td>0</td>\n",
       "      <td>0</td>\n",
       "      <td>1.0</td>\n",
       "    </tr>\n",
       "    <tr>\n",
       "      <th>17629</th>\n",
       "      <td>CASH_IN</td>\n",
       "      <td>154612.312500</td>\n",
       "      <td>12450461.0</td>\n",
       "      <td>1.260507e+07</td>\n",
       "      <td>2.443607e+05</td>\n",
       "      <td>3.242946e+05</td>\n",
       "      <td>0</td>\n",
       "      <td>0</td>\n",
       "      <td>1.0</td>\n",
       "    </tr>\n",
       "    <tr>\n",
       "      <th>5558446</th>\n",
       "      <td>CASH_OUT</td>\n",
       "      <td>91047.460938</td>\n",
       "      <td>11622.0</td>\n",
       "      <td>0.000000e+00</td>\n",
       "      <td>2.060233e+06</td>\n",
       "      <td>2.151280e+06</td>\n",
       "      <td>0</td>\n",
       "      <td>0</td>\n",
       "      <td>1.0</td>\n",
       "    </tr>\n",
       "    <tr>\n",
       "      <th>2382999</th>\n",
       "      <td>CASH_IN</td>\n",
       "      <td>120696.046875</td>\n",
       "      <td>78430.0</td>\n",
       "      <td>1.991260e+05</td>\n",
       "      <td>1.038196e+06</td>\n",
       "      <td>9.175002e+05</td>\n",
       "      <td>0</td>\n",
       "      <td>0</td>\n",
       "      <td>1.0</td>\n",
       "    </tr>\n",
       "  </tbody>\n",
       "</table>\n",
       "</div>"
      ],
      "text/plain": [
       "             type         amount  oldbalanceOrg  newbalanceOrig  \\\n",
       "3763599   CASH_IN  171969.531250     10569770.0    1.074174e+07   \n",
       "1595120   CASH_IN  144349.093750      4854638.5    4.998988e+06   \n",
       "17629     CASH_IN  154612.312500     12450461.0    1.260507e+07   \n",
       "5558446  CASH_OUT   91047.460938        11622.0    0.000000e+00   \n",
       "2382999   CASH_IN  120696.046875        78430.0    1.991260e+05   \n",
       "\n",
       "         oldbalanceDest  newbalanceDest  isFraud  prediction_label  \\\n",
       "3763599    2.056990e+06    1.885020e+06        0                 0   \n",
       "1595120    2.367885e+05    9.243944e+04        0                 0   \n",
       "17629      2.443607e+05    3.242946e+05        0                 0   \n",
       "5558446    2.060233e+06    2.151280e+06        0                 0   \n",
       "2382999    1.038196e+06    9.175002e+05        0                 0   \n",
       "\n",
       "         prediction_score  \n",
       "3763599               1.0  \n",
       "1595120               1.0  \n",
       "17629                 1.0  \n",
       "5558446               1.0  \n",
       "2382999               1.0  "
      ]
     },
     "execution_count": 22,
     "metadata": {},
     "output_type": "execute_result"
    }
   ],
   "source": [
    "pred.head()"
   ]
  },
  {
   "cell_type": "markdown",
   "id": "facefb99",
   "metadata": {},
   "source": [
    "# accuracy check"
   ]
  },
  {
   "cell_type": "code",
   "execution_count": 23,
   "id": "2e723053",
   "metadata": {
    "scrolled": false
   },
   "outputs": [
    {
     "data": {
      "text/plain": [
       "0.9996598885364834"
      ]
     },
     "execution_count": 23,
     "metadata": {},
     "output_type": "execute_result"
    }
   ],
   "source": [
    "accuracy_score(pred['isFraud'], pred['prediction_label'])"
   ]
  }
 ],
 "metadata": {
  "kernelspec": {
   "display_name": "Python 3 (ipykernel)",
   "language": "python",
   "name": "python3"
  },
  "language_info": {
   "codemirror_mode": {
    "name": "ipython",
    "version": 3
   },
   "file_extension": ".py",
   "mimetype": "text/x-python",
   "name": "python",
   "nbconvert_exporter": "python",
   "pygments_lexer": "ipython3",
   "version": "3.10.5"
  }
 },
 "nbformat": 4,
 "nbformat_minor": 5
}
